{
 "cells": [
  {
   "cell_type": "code",
   "execution_count": null,
   "metadata": {},
   "outputs": [],
   "source": [
    "import math"
   ]
  },
  {
   "cell_type": "code",
   "execution_count": null,
   "metadata": {},
   "outputs": [],
   "source": [
    "def gorner (polyn, n, x):\n",
    "    result = polyn[0]\n",
    "    for i in range (1,n):\n",
    "        result = result*x + polyn[i]\n",
    "    return result"
   ]
  },
  {
   "cell_type": "code",
   "execution_count": null,
   "metadata": {},
   "outputs": [],
   "source": [
    "# 1 + x + 2*x^2 = 1 + 2 + 2*4 = 11\n",
    "gorner([1,1,2], 3, 2)"
   ]
  },
  {
   "cell_type": "code",
   "execution_count": 3,
   "metadata": {},
   "outputs": [
    {
     "name": "stdout",
     "output_type": "stream",
     "text": [
      "{2: 1, 3: 2, 4: 3, 5: 4, 6: 5, 7: 6, 8: 5, 9: 4, 10: 3, 11: 2, 12: 1}\n",
      "{2: 1, 3: 2, 4: 3, 5: 4, 6: 5, 7: 6, 8: 5, 9: 4, 10: 3, 11: 2, 12: 1}\n"
     ]
    }
   ],
   "source": [
    "A = [1,3,4,5,6,8]\n",
    "B = [1,2,2,3,3,4]\n",
    "standard_dice = [1,2,3,4,5,6]\n",
    "def sum(first_gie,second_gie):\n",
    "  dict = {}\n",
    "  for i in first_gie:\n",
    "    for j in second_gie:\n",
    "      sum = i + j\n",
    "      if sum not in dict.keys():\n",
    "        dict[sum] = 1\n",
    "      else:\n",
    "        dict[sum]+=1\n",
    "  return dict\n",
    "\n",
    "print(sum(A,B))\n",
    "\n",
    "print(sum(standard_dice,standard_dice))\n"
   ]
  },
  {
   "cell_type": "code",
   "execution_count": 4,
   "metadata": {},
   "outputs": [],
   "source": [
    "stats = sum(standard_dice,standard_dice)"
   ]
  },
  {
   "cell_type": "code",
   "execution_count": 7,
   "metadata": {},
   "outputs": [
    {
     "data": {
      "text/plain": [
       "0.027777777777777776"
      ]
     },
     "execution_count": 7,
     "metadata": {},
     "output_type": "execute_result"
    }
   ],
   "source": []
  },
  {
   "cell_type": "code",
   "execution_count": null,
   "metadata": {},
   "outputs": [],
   "source": []
  }
 ],
 "metadata": {
  "kernelspec": {
   "display_name": "Python 3",
   "language": "python",
   "name": "python3"
  },
  "language_info": {
   "codemirror_mode": {
    "name": "ipython",
    "version": 3
   },
   "file_extension": ".py",
   "mimetype": "text/x-python",
   "name": "python",
   "nbconvert_exporter": "python",
   "pygments_lexer": "ipython3",
   "version": "3.8.3"
  }
 },
 "nbformat": 4,
 "nbformat_minor": 4
}
